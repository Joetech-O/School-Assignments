{
  "cells": [
    {
      "cell_type": "markdown",
      "metadata": {
        "id": "view-in-github",
        "colab_type": "text"
      },
      "source": [
        "<a href=\"https://colab.research.google.com/github/Joetech-O/School-Assignments/blob/main/Dat7307_Assignment.ipynb\" target=\"_parent\"><img src=\"https://colab.research.google.com/assets/colab-badge.svg\" alt=\"Open In Colab\"/></a>"
      ]
    },
    {
      "cell_type": "code",
      "execution_count": null,
      "metadata": {
        "colab": {
          "base_uri": "https://localhost:8080/"
        },
        "id": "8oPAUYYgD9fX",
        "outputId": "106fbcb2-230d-4439-b19b-4e2f1dd9bce1"
      },
      "outputs": [
        {
          "name": "stdout",
          "output_type": "stream",
          "text": [
            "Enter Your Nmae: Joseph\n",
            "Hello, Joseph\n"
          ]
        }
      ],
      "source": [
        "user_name = input(\"Enter Your Nmae: \")\n",
        "print(f\"Hello, {user_name}\")"
      ]
    },
    {
      "cell_type": "code",
      "source": [],
      "metadata": {
        "id": "AZb_mSVfFOlp"
      },
      "execution_count": null,
      "outputs": []
    },
    {
      "cell_type": "code",
      "execution_count": null,
      "metadata": {
        "id": "6S4RN0aoiHNj"
      },
      "outputs": [],
      "source": [
        "fah_cel = int(input(\"Enter temperature: \"))\n",
        "temp_type =input(\"Enter preferred temperature to convert, °C or °F: \")\n",
        "if temp_type == \"°C\":\n",
        "    cal=fah_cel*1.8 +32\n",
        "    print(cal,\"°C\")\n",
        "elif temp_type ==\"°F\":\n",
        "    cal_2 = (fah_cel-32)* 5/9\n",
        "    print(cal_2,\"°F\")\n",
        "else:\n",
        "    print(\"Invalid input\")\n"
      ]
    },
    {
      "cell_type": "code",
      "execution_count": null,
      "metadata": {
        "id": "TYRqaiYpbPK9"
      },
      "outputs": [],
      "source": [
        "count=0\n",
        "while count<=4:\n",
        "    count= count+1\n",
        "    print(count)"
      ]
    },
    {
      "cell_type": "code",
      "execution_count": null,
      "metadata": {
        "colab": {
          "background_save": true,
          "base_uri": "https://localhost:8080/"
        },
        "id": "432JdapBoqG4",
        "outputId": "641fcfe3-126e-436e-cd2e-17ce675e0c7f"
      },
      "outputs": [
        {
          "name": "stdout",
          "output_type": "stream",
          "text": [
            "Mini Calculator\n",
            "1. Addition\n",
            "2. Subtraction\n",
            "3. Multiplication\n",
            "4. Division\n"
          ]
        }
      ],
      "source": [
        "def add(f_num, s_num):\n",
        "    return f_num + s_num\n",
        "\n",
        "def subtract(f_num, s_num):\n",
        "    return f_num - s_num\n",
        "\n",
        "def multiply(f_num, s_num):\n",
        "    return f_num * s_num\n",
        "\n",
        "def divide(f_num, s_num):\n",
        "    if s_num == 0:\n",
        "        raise ValueError(\"Cannot divide by zero.\")\n",
        "    return f_num / s_num\n",
        "\n",
        "def main():\n",
        "    print(\"Mini Calculator\")\n",
        "    print(\"1. Addition\")\n",
        "    print(\"2. Subtraction\")\n",
        "    print(\"3. Multiplication\")\n",
        "    print(\"4. Division\")\n",
        "\n",
        "    opp = input(\"Enter operation (1/2/3/4): \")\n",
        "\n",
        "    try:\n",
        "        f_num = float(input(\"Enter first number: \"))\n",
        "        s_num = float(input(\"Enter second number: \"))\n",
        "\n",
        "        if opp == \"1\":\n",
        "            print(f\"{f_num} + {s_num} = {add(f_num, s_num)}\")\n",
        "        elif opp == \"2\":\n",
        "            print(f\"{f_num} - {s_num} = {subtract(f_num, s_num)}\")\n",
        "        elif opp == \"3\":\n",
        "            print(f\"{f_num} * {s_num} = {multiply(f_num, s_num)}\")\n",
        "        elif opp == \"4\":\n",
        "            print(f\"{f_num} / {s_num} = {divide(f_num, s_num)}\")\n",
        "        else:\n",
        "            print(\"Invalid input. Try again.\")\n",
        "\n",
        "    except ValueError as e:\n",
        "        print(f\"Error: {e}\")\n",
        "\n",
        "if __name__ == \"__main__\":\n",
        "    main()"
      ]
    },
    {
      "cell_type": "code",
      "execution_count": null,
      "metadata": {
        "colab": {
          "base_uri": "https://localhost:8080/"
        },
        "id": "47CvZ1VWEmBk",
        "outputId": "6e053654-ff1b-4737-8dee-21a1fdc78e59"
      },
      "outputs": [
        {
          "name": "stdout",
          "output_type": "stream",
          "text": [
            "Enter your Year of Birth: 1992\n",
            "You are 32 years old\n"
          ]
        }
      ],
      "source": [
        "user_age = int(input(\"Enter your Year of Birth: \"))\n",
        "current_age = 2024- user_age\n",
        "print(f\"You are {current_age} years old\")"
      ]
    },
    {
      "cell_type": "code",
      "execution_count": null,
      "metadata": {
        "colab": {
          "base_uri": "https://localhost:8080/"
        },
        "id": "zFI13MblH2Sq",
        "outputId": "b5d2fa35-9d77-446c-8e28-27cb9118b2d3"
      },
      "outputs": [
        {
          "name": "stdout",
          "output_type": "stream",
          "text": [
            "Enter Item: Apples\n",
            "Enter quantity: 8\n",
            "Enter another item: Bananas\n",
            "Enter quantity: 6\n",
            "Enter another item: Oranges\n",
            "Enter quantity: 8\n",
            "Your shopping list: \n",
            "8 Apples \n",
            "6 Bananas \n",
            "8 Oranges\n"
          ]
        }
      ],
      "source": [
        "item = input(\"Enter Item: \")\n",
        "quantity = input(\"Enter quantity: \")\n",
        "item_2 = input(\"Enter another item: \")\n",
        "quantity_2 = input(\"Enter quantity: \")\n",
        "item_3 = input(\"Enter another item: \")\n",
        "quantity_3 = input(\"Enter quantity: \")\n",
        "print(f\"Your shopping list: \\n{quantity} {item} \\n{quantity_2} {item_2} \\n{quantity_3} {item_3}\")"
      ]
    },
    {
      "cell_type": "code",
      "execution_count": null,
      "metadata": {
        "colab": {
          "background_save": true,
          "base_uri": "https://localhost:8080/"
        },
        "id": "KSazWqLiDW2e",
        "outputId": "44c9c8f7-a63c-4b1a-ce72-4dfdef9b09fa"
      },
      "outputs": [
        {
          "name": "stdout",
          "output_type": "stream",
          "text": [
            "1. Fahrenheit to Celsius\n",
            "2. Celsius to Fahrenheit\n",
            "70.0°C is 158.00°F\n",
            "1. Fahrenheit to Celsius\n",
            "2. Celsius to Fahrenheit\n"
          ]
        }
      ],
      "source": [
        "def cal():\n",
        "    while True:\n",
        "        print(\"1. Fahrenheit to Celsius\")\n",
        "        print(\"2. Celsius to Fahrenheit\")\n",
        "        user = input(\"Choose an option: \")\n",
        "\n",
        "        if user == \"1\":\n",
        "            fah = float(input(\"Enter temperature in Fahrenheit: \"))\n",
        "            cel = fah_to_cel(fah)\n",
        "            print(f\"{fah}°F is {cel:.2f}°C\")\n",
        "        elif user == \"2\":\n",
        "            cel = float(input(\"Enter temperature in Celsius: \"))\n",
        "            fah = cel_to_fah(cel)\n",
        "            print(f\"{cel}°C is {fah:.2f}°F\")\n",
        "        elif user == \"3\":\n",
        "            print(\"Goodbye!\")\n",
        "            break\n",
        "        else:\n",
        "            print(\"Invalid input. Please choose again.\")\n",
        "def fah_to_cel(fah):\n",
        "    return (fah - 32) * 5 / 9\n",
        "def cel_to_fah(cel):\n",
        "    return (cel * 9 / 5) + 32\n",
        "print(cal())"
      ]
    },
    {
      "cell_type": "code",
      "execution_count": null,
      "metadata": {
        "colab": {
          "base_uri": "https://localhost:8080/"
        },
        "id": "b9x6np_fH40X",
        "outputId": "be5e7fa5-d75a-4170-bdba-3b2d156288cd"
      },
      "outputs": [
        {
          "name": "stdout",
          "output_type": "stream",
          "text": [
            "Enter Temperature °C: 70\n",
            "70.0°C is 158.0°F\n"
          ]
        }
      ],
      "source": [
        "celcius=float(input(\"Enter Temperature °C: \"))\n",
        "fahrenheit = celcius*1.8+32\n",
        "print(f\"{celcius}°C is {fahrenheit}°F\")"
      ]
    },
    {
      "cell_type": "markdown",
      "metadata": {
        "id": "_Bfvu412PWLM"
      },
      "source": []
    },
    {
      "cell_type": "code",
      "execution_count": null,
      "metadata": {
        "colab": {
          "base_uri": "https://localhost:8080/"
        },
        "id": "CBOkaY_cO1_Q",
        "outputId": "8d4df1df-4c40-47ba-995b-b9e0a7a62ab3"
      },
      "outputs": [
        {
          "name": "stdout",
          "output_type": "stream",
          "text": [
            "Enter your first name: Joseph\n",
            "Enter your last name: Omenazu\n",
            "Your full name is: Joseph Omenazu\n"
          ]
        }
      ],
      "source": [
        "first_name= input(\"Enter your first name: \")\n",
        "second_name =input(\"Enter your last name: \")\n",
        "print(f\"Your full name is: {first_name} {second_name}\")"
      ]
    },
    {
      "cell_type": "code",
      "execution_count": null,
      "metadata": {
        "colab": {
          "base_uri": "https://localhost:8080/"
        },
        "id": "yh9Su5Mz7i5V",
        "outputId": "d04f8d23-4344-4109-faa4-39dcba939f84"
      },
      "outputs": [
        {
          "name": "stdout",
          "output_type": "stream",
          "text": [
            "Guess a number between 1 to 10: 8\n"
          ]
        }
      ],
      "source": [
        "user_in=int(input(\"Guess a number between 1 to 10: \"))\n",
        "while user_in is False:\n",
        "  if user_in==7:\n",
        "    print(\"Correct\")"
      ]
    },
    {
      "cell_type": "code",
      "execution_count": null,
      "metadata": {
        "colab": {
          "base_uri": "https://localhost:8080/"
        },
        "id": "3TftzSxpO255",
        "outputId": "63a7ded8-4b49-4203-8764-1aa0750c3936"
      },
      "outputs": [
        {
          "name": "stdout",
          "output_type": "stream",
          "text": [
            "Enter a number (or 'stop' to quit): 9\n",
            "Total sum: 9\n",
            "Enter a number (or 'stop' to quit): 6\n",
            "Total sum: 15\n",
            "Enter a number (or 'stop' to quit): stop\n",
            "Final total sum: 15\n"
          ]
        }
      ],
      "source": [
        "total_sum = 0\n",
        "\n",
        "while True:\n",
        "    user_input = input(\"Enter a number (or 'stop' to quit): \")\n",
        "\n",
        "    if user_input == 'stop':\n",
        "        print(\"Total sum:\", total_sum)\n",
        "        break\n",
        "\n",
        "    try:\n",
        "        number = int(user_input)\n",
        "        total_sum = total_sum + number\n",
        "        print(\"Total sum:\", total_sum)\n",
        "    except:\n",
        "        print(\"Invalid input. Please enter a number.\")"
      ]
    },
    {
      "cell_type": "code",
      "execution_count": null,
      "metadata": {
        "colab": {
          "base_uri": "https://localhost:8080/"
        },
        "id": "Ezc2QLjUDYOm",
        "outputId": "b2ffe677-830e-46da-88f0-d3916eeab737"
      },
      "outputs": [
        {
          "name": "stdout",
          "output_type": "stream",
          "text": [
            "Guess a number from 1-10: 1\n",
            "Wrong, try again \n",
            "Guess the number: 2\n",
            "Wrong, try again \n",
            "Guess the number: 3\n",
            "Wrong, try again \n",
            "Guess the number: 4\n",
            "Wrong, try again \n",
            "Guess the number: 5\n",
            "Correct!\n"
          ]
        }
      ],
      "source": [
        "import random\n",
        "num = random.randint(1,10)\n",
        "guess = int(input(\"Guess a number from 1-10: \"))\n",
        "while guess != num:\n",
        "\tif guess < num:\n",
        "\t\tprint(\"Wrong, try again \")\n",
        "\telif num < guess:\n",
        "\t\tprint(\"Wrong, try again \")\n",
        "\tguess = int(input(\"Guess the number: \"))\n",
        "print(\"Correct!\")"
      ]
    },
    {
      "cell_type": "code",
      "execution_count": null,
      "metadata": {
        "colab": {
          "base_uri": "https://localhost:8080/"
        },
        "id": "_x3BqImasSIy",
        "outputId": "ed5c5a18-0c5a-4eec-b08b-61846c4b338e"
      },
      "outputs": [
        {
          "name": "stdout",
          "output_type": "stream",
          "text": [
            "p \n",
            "yp \n",
            "typ \n",
            "htyp \n",
            "ohtyp \n",
            "nohtyp \n"
          ]
        }
      ],
      "source": [
        "reversedString = \" \"\n",
        "for char in \"python\":\n",
        "    reversedString =char +reversedString\n",
        "    print(reversedString)"
      ]
    },
    {
      "cell_type": "code",
      "source": [
        "phone_book = {\n",
        "    \"Joetech\": \"+447881161727\",\n",
        "    \"Yomi\": \"+447881161237\",\n",
        "    \"Omowumi\": \"+449087769087\",\n",
        "}\n",
        "\n",
        "def add_to_phone_book(phone_book):\n",
        "    key = input(\"Enter name: \")\n",
        "    value = input(\"Enter number: \")\n",
        "    phone_book[key] = value\n",
        "    print(f\"{key} added.\")\n",
        "\n",
        "def remove_from_phone_book(phone_book):\n",
        "    name = input(\"Enter name to remove: \")\n",
        "    if name in phone_book:\n",
        "        del phone_book[name]\n",
        "        print(f\"{name} removed.\")\n",
        "    else:\n",
        "        print(f\"{name} not found.\")\n",
        "\n",
        "def display_phonebook(phone_book):\n",
        "    name = input(\"Enter name: \")\n",
        "    if name in phone_book:\n",
        "        print(f\"{name}: {phone_book[name]}\")\n",
        "    else:\n",
        "        print(\"Name not found.\")\n",
        "\n",
        "while True:\n",
        "    print(\"Choose operation (1/2/3/4):\")\n",
        "    print(\"1. Add name\")\n",
        "    print(\"2. Remove name\")\n",
        "    print(\"3. Display\")\n",
        "    print(\"4. Quit\")\n",
        "    user_choice = input(\"Choose: \")\n",
        "\n",
        "    if user_choice == \"1\":\n",
        "        add_to_phone_book(phone_book)\n",
        "    elif user_choice == \"2\":\n",
        "        remove_from_phone_book(phone_book)\n",
        "    elif user_choice == \"3\":\n",
        "        display_phonebook(phone_book)\n",
        "    elif user_choice == \"4\":\n",
        "        print(\"Goodbye\")\n",
        "        break\n",
        "    else:\n",
        "        print(\"Invalid choice\")"
      ],
      "metadata": {
        "colab": {
          "base_uri": "https://localhost:8080/"
        },
        "id": "_zdO_DwRkWtZ",
        "outputId": "bd156d92-a0d5-4383-8a5c-ef15f56e4fb3"
      },
      "execution_count": null,
      "outputs": [
        {
          "output_type": "stream",
          "name": "stdout",
          "text": [
            "Choose operation (1/2/3/4):\n",
            "1. Add name\n",
            "2. Remove name\n",
            "3. Display\n",
            "4. Quit\n",
            "Choose: 3\n",
            "Enter name: Kenneth\n",
            "Name not found.\n",
            "Choose operation (1/2/3/4):\n",
            "1. Add name\n",
            "2. Remove name\n",
            "3. Display\n",
            "4. Quit\n",
            "Choose: 4\n",
            "Goodbye\n"
          ]
        }
      ]
    },
    {
      "cell_type": "code",
      "source": [
        "from collections import Counter\n",
        "user_in = input(\"Enter a string: \")\n",
        "def frequency_count():\n",
        "    count = Counter(user_in)\n",
        "    return count\n",
        "print(frequency_count())"
      ],
      "metadata": {
        "colab": {
          "base_uri": "https://localhost:8080/"
        },
        "id": "KZIMgsOaFR7Y",
        "outputId": "8e5b7a72-0cce-4e79-9876-b1a341b57eb3"
      },
      "execution_count": null,
      "outputs": [
        {
          "output_type": "stream",
          "name": "stdout",
          "text": [
            "Enter a string: hello\n",
            "Counter({'l': 2, 'h': 1, 'e': 1, 'o': 1})\n"
          ]
        }
      ]
    },
    {
      "cell_type": "code",
      "source": [],
      "metadata": {
        "id": "Yn6aTHJtF4Sk"
      },
      "execution_count": null,
      "outputs": []
    },
    {
      "cell_type": "code",
      "source": [
        "student_score = {\"Yomi\": \"70\", \"Opeyemi\": \"80\"}\n",
        "\n",
        "def add_student(student_score):\n",
        "    student_name = input(\"Enter student name: \")\n",
        "    student_grade = input(\"Enter student grade: \")\n",
        "    student_score[student_name] = student_grade\n",
        "    return student_score\n",
        "\n",
        "def display_student(student_score):\n",
        "    for student, grade in student_score.items():\n",
        "        print(f\"{student}: {grade}\")\n",
        "\n",
        "def get_student_grade(student_score):\n",
        "    student_name = input(\"Enter student name: \")\n",
        "    if student_name in student_score:\n",
        "        return student_score[student_name]\n",
        "    else:\n",
        "        return \"Student not found.\"\n",
        "\n",
        "while True:\n",
        "    print(\"1. Add Student\")\n",
        "    print(\"2. Display Students\")\n",
        "    print(\"3. Get Student Grade\")\n",
        "    print(\"4. Quit\")\n",
        "    user_choice = input(\"Choose which task to perform: \")\n",
        "\n",
        "    if user_choice == \"1\":\n",
        "        add_student(student_score)\n",
        "    elif user_choice == \"2\":\n",
        "        display_student(student_score)\n",
        "    elif user_choice == \"3\":\n",
        "        print(get_student_grade(student_score))\n",
        "    elif user_choice == \"4\":\n",
        "        print(\"Goodbye, Thank you\")\n",
        "        break\n",
        "    else:\n",
        "        print(\"Invalid input\")"
      ],
      "metadata": {
        "colab": {
          "base_uri": "https://localhost:8080/"
        },
        "id": "OLWwathyF7sC",
        "outputId": "61ceff20-cfec-46a7-dd60-34e4fb94dec6"
      },
      "execution_count": null,
      "outputs": [
        {
          "output_type": "stream",
          "name": "stdout",
          "text": [
            "1. Add Student\n",
            "2. Display Students\n",
            "3. Get Student Grade\n",
            "4. Quit\n",
            "Choose which task to perform: 1\n",
            "Enter student name: John\n",
            "Enter student grade: 80\n",
            "1. Add Student\n",
            "2. Display Students\n",
            "3. Get Student Grade\n",
            "4. Quit\n",
            "Choose which task to perform: 2\n",
            "Yomi: 70\n",
            "Opeyemi: 80\n",
            "John: 80\n",
            "1. Add Student\n",
            "2. Display Students\n",
            "3. Get Student Grade\n",
            "4. Quit\n",
            "Choose which task to perform: 4\n",
            "Goodbye, Thank you\n"
          ]
        }
      ]
    },
    {
      "cell_type": "code",
      "source": [
        "numbers = input(\"Enter a list of numbers separated by spaces: \")\n",
        "numbers = [int(num) for num in numbers.split()]\n",
        "def max_min(numbers):\n",
        "    max_num = max(numbers)\n",
        "    min_num = min(numbers)\n",
        "    return \"Max: \",max_num, \"Min: \",min_num\n",
        "print(max_min(numbers))"
      ],
      "metadata": {
        "colab": {
          "base_uri": "https://localhost:8080/"
        },
        "id": "W06QSHJMbltH",
        "outputId": "62a6610b-52a4-4436-dfb5-130a861dd6c7"
      },
      "execution_count": null,
      "outputs": [
        {
          "output_type": "stream",
          "name": "stdout",
          "text": [
            "Enter a list of numbers separated by spaces: 3 4 22 11 \n",
            "('Max: ', 22, 'Min: ', 3)\n"
          ]
        }
      ]
    },
    {
      "cell_type": "code",
      "source": [
        "a=input(\"Input numbers: \")\n",
        "b=input(\"Input numbers: \")\n",
        "def swap_values(a,b):\n",
        "    a,b=b,a\n",
        "    return a,b\n",
        "print(swap_values(a,b))"
      ],
      "metadata": {
        "colab": {
          "base_uri": "https://localhost:8080/"
        },
        "id": "KoKB8bew3Prf",
        "outputId": "6c0513a3-8a95-479a-e2a3-f3656c3ccd92"
      },
      "execution_count": null,
      "outputs": [
        {
          "output_type": "stream",
          "name": "stdout",
          "text": [
            "Input numbers: 2 3 5\n",
            "Input numbers: 3 5 2\n",
            "('3 5 2', '2 3 5')\n"
          ]
        }
      ]
    },
    {
      "cell_type": "code",
      "source": [
        "employee_record=[]\n",
        "employes_id_name_dep=input({\"Enter Id name and department\"})\n",
        "def add_employee(employee_record):\n",
        "    employee_record.append(employes_id_name_dep)\n",
        "    return employee_record\n",
        "print(add_employee(employee_record))\n",
        "# employee_record.append(employes_id_name_dep)\n",
        "# print(employee_record)"
      ],
      "metadata": {
        "colab": {
          "base_uri": "https://localhost:8080/"
        },
        "id": "oozjzeFQ_56E",
        "outputId": "3b480389-d7a0-4bbf-9572-3889416de3d9"
      },
      "execution_count": null,
      "outputs": [
        {
          "output_type": "stream",
          "name": "stdout",
          "text": [
            "{'Enter Id name and department'}109 John Hr\n",
            "['109 John Hr']\n"
          ]
        }
      ]
    }
  ],
  "metadata": {
    "colab": {
      "provenance": [],
      "authorship_tag": "ABX9TyPHyfQfMr7HFTV7E7E4ailk",
      "include_colab_link": true
    },
    "kernelspec": {
      "display_name": "Python 3",
      "name": "python3"
    },
    "language_info": {
      "name": "python"
    }
  },
  "nbformat": 4,
  "nbformat_minor": 0
}